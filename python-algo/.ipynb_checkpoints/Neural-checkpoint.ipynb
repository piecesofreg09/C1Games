{
 "cells": [
  {
   "cell_type": "code",
   "execution_count": null,
   "metadata": {},
   "outputs": [],
   "source": [
    "import numpy as np\n",
    "import math\n",
    "import pandas as pd\n",
    "import pickle, os, math\n",
    "from keras.models import Sequential\n",
    "from keras.callbacks import Callback\n",
    "from keras.layers import Dense\n",
    "import tensorflow as tf\n",
    "from sklearn.model_selection import train_test_split\n",
    "from sklearn.metrics import confusion_matrix, f1_score, precision_score, recall_score\n",
    "from sklearn.svm import SVC\n",
    "from sklearn.neural_network import MLPClassifier\n",
    "from sklearn.model_selection import cross_val_score"
   ]
  },
  {
   "cell_type": "markdown",
   "metadata": {},
   "source": [
    "At the begining of the game: State\n",
    "\n",
    "Action:\n",
    "\n",
    "1. positions that we have put items\n",
    "\n",
    "which can be summarized into\n",
    "\n",
    "1. General areas of the attackers and defenders\n",
    "2. ratio of three categories of attackers and defenders\n",
    "3. resouces used\n",
    "\n",
    "At the end of the game: State\n",
    "\n",
    "* Self Health loss\n",
    "* Self defender health loss\n",
    "\n",
    "\n",
    "* opponent health loss\n",
    "* opponent defender health loss\n"
   ]
  },
  {
   "cell_type": "markdown",
   "metadata": {},
   "source": [
    "## 1st method:##\n",
    "\n",
    "for each round, we can get the initial game state, and some possible actions, then the result\n",
    "\n",
    "Input: Beginning State, Action, Ending state\n",
    "\n",
    "Ouput: \n",
    "\n",
    "good decision or bad decision, yes or no,\n",
    "\n",
    "\n",
    "* if the health didn't decrease, then this action is allowed\n",
    "\n",
    "* if the health decreased\n",
    "    * if opponent health descresed more than self, then allowed\n",
    "    * if opponent health didn't descrease\n",
    "        * if opponent defender health decrease more than self, then allowed\n",
    "        * else not allowed"
   ]
  },
  {
   "cell_type": "code",
   "execution_count": null,
   "metadata": {},
   "outputs": [],
   "source": [
    "model_NNK_nf = Sequential()\n",
    "model_NNK_nf.add(Dense(units=12, activation='relu', input_dim=24))\n",
    "model_NNK_nf.add(Dense(units=6, activation='relu'))\n",
    "model_NNK_nf.add(Dense(units=1, activation='sigmoid'))\n",
    "model_NNK_nf.compile(loss='mean_squared_error',\n",
    "                     optimizer='rmsprop',\n",
    "                     metrics=['accuracy'])\n",
    "\n",
    "model_NNK_nf.fit(X_train_train_small_nf, y_train_train_small_nf,\n",
    "                 validation_data=(X_vali_small_nf, y_vali_small_nf),\n",
    "                 epochs=20, batch_size=4096, verbose=1)"
   ]
  },
  {
   "cell_type": "markdown",
   "metadata": {},
   "source": [
    "## 2nd method:##\n",
    "\n",
    "for each round\n",
    "Input: Game state, Action\n",
    "\n",
    "Input action: general area of the board, and then ratio\n",
    "\n",
    "Output: Ending states\n",
    "\n",
    "Try different actions, to compare which ending states are better, then select the better one"
   ]
  },
  {
   "cell_type": "code",
   "execution_count": null,
   "metadata": {},
   "outputs": [],
   "source": []
  },
  {
   "cell_type": "markdown",
   "metadata": {},
   "source": [
    "## 3rd method: ##\n",
    "\n",
    "RNN\n",
    "\n",
    "For the winner strategy\n"
   ]
  },
  {
   "cell_type": "code",
   "execution_count": null,
   "metadata": {},
   "outputs": [],
   "source": []
  },
  {
   "cell_type": "markdown",
   "metadata": {},
   "source": [
    "Batch running games to get a lot of random game data\n",
    "\n",
    "we can learn from both sides"
   ]
  },
  {
   "cell_type": "code",
   "execution_count": null,
   "metadata": {},
   "outputs": [],
   "source": []
  },
  {
   "cell_type": "code",
   "execution_count": null,
   "metadata": {},
   "outputs": [],
   "source": []
  }
 ],
 "metadata": {
  "kernelspec": {
   "display_name": "Python 3",
   "language": "python",
   "name": "python3"
  },
  "language_info": {
   "codemirror_mode": {
    "name": "ipython",
    "version": 3
   },
   "file_extension": ".py",
   "mimetype": "text/x-python",
   "name": "python",
   "nbconvert_exporter": "python",
   "pygments_lexer": "ipython3",
   "version": "3.7.3"
  }
 },
 "nbformat": 4,
 "nbformat_minor": 2
}
