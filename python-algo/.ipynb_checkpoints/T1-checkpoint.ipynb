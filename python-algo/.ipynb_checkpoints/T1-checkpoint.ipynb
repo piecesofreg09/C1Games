{
 "cells": [
  {
   "cell_type": "code",
   "execution_count": 1,
   "metadata": {},
   "outputs": [],
   "source": [
    "import random\n",
    "import numpy as np\n",
    "from deap import base, creator, tools, algorithms"
   ]
  },
  {
   "cell_type": "code",
   "execution_count": 2,
   "metadata": {},
   "outputs": [],
   "source": [
    "creator.create(\"FitnessMax\", base.Fitness, weights=(1.0,))\n",
    "creator.create(\"Individual\", list, fitness=creator.FitnessMax)"
   ]
  },
  {
   "cell_type": "code",
   "execution_count": 162,
   "metadata": {},
   "outputs": [],
   "source": [
    "toolbox = base.Toolbox()\n",
    "toolbox.register(\"attr_bool\", random.randint, 2, 200)\n",
    "toolbox.register(\"individual\", tools.initRepeat, creator.Individual, toolbox.attr_bool, n=8)\n",
    "toolbox.register(\"population\", tools.initRepeat, list, toolbox.individual)"
   ]
  },
  {
   "cell_type": "code",
   "execution_count": 163,
   "metadata": {},
   "outputs": [],
   "source": [
    "ind = toolbox.individual()\n",
    "pop = toolbox.population(n=3)"
   ]
  },
  {
   "cell_type": "code",
   "execution_count": 172,
   "metadata": {},
   "outputs": [
    {
     "data": {
      "text/plain": [
       "[88, 194, 198, 162, 127, 47, 62, 62]"
      ]
     },
     "execution_count": 172,
     "metadata": {},
     "output_type": "execute_result"
    }
   ],
   "source": [
    "pop[0]"
   ]
  },
  {
   "cell_type": "code",
   "execution_count": 164,
   "metadata": {},
   "outputs": [
    {
     "data": {
      "text/plain": [
       "26"
      ]
     },
     "execution_count": 164,
     "metadata": {},
     "output_type": "execute_result"
    }
   ],
   "source": [
    "np.dot(np.array([1,2,3]), np.array([3,4,5]))"
   ]
  },
  {
   "cell_type": "code",
   "execution_count": 165,
   "metadata": {},
   "outputs": [],
   "source": [
    "def eval_poly(individual, yy=20):\n",
    "    x = [np.cos(individual[0]**2),\n",
    "         np.cos(individual[1]**0.2), \n",
    "         np.sin(individual[2]**0.5), \n",
    "         individual[3]**1.5 - np.floor(individual[3]**1.5), \n",
    "         np.cos(individual[4]**2),\n",
    "         np.sin(individual[5]**0.4), \n",
    "         np.sin(individual[6]**0.5), \n",
    "         individual[7]**1.2 - np.floor(individual[7]**1.2)] \n",
    "    temp = [np.dot(x, [-1, -2, 3, 5, 2, -7, 3, -1]) + yy]\n",
    "    return temp"
   ]
  },
  {
   "cell_type": "code",
   "execution_count": 179,
   "metadata": {},
   "outputs": [
    {
     "data": {
      "text/plain": [
       "array([ 25,  85,  68, -71,  42, -23,  37,  30])"
      ]
     },
     "execution_count": 179,
     "metadata": {},
     "output_type": "execute_result"
    }
   ],
   "source": [
    "ind1 = toolbox.individual()\n",
    "ind1\n",
    "ind2 = toolbox.individual()\n",
    "ind2\n",
    "np.subtract(ind1, ind2)"
   ]
  },
  {
   "cell_type": "code",
   "execution_count": 166,
   "metadata": {},
   "outputs": [],
   "source": [
    "toolbox.register(\"evaluate\", eval_poly, yy=-5)\n",
    "toolbox.register(\"mate\", tools.cxTwoPoint)\n",
    "toolbox.register(\"mutate\", tools.mutUniformInt, low=2, up=200, indpb=0.2)\n",
    "toolbox.register(\"select\", tools.selTournament, tournsize=3)"
   ]
  },
  {
   "cell_type": "code",
   "execution_count": 167,
   "metadata": {},
   "outputs": [
    {
     "data": {
      "text/plain": [
       "[128, 170, 107, 36, 164, 171, 134, 76]"
      ]
     },
     "execution_count": 167,
     "metadata": {},
     "output_type": "execute_result"
    }
   ],
   "source": [
    "ind"
   ]
  },
  {
   "cell_type": "code",
   "execution_count": 168,
   "metadata": {},
   "outputs": [
    {
     "data": {
      "text/plain": [
       "([128, 170, 148, 36, 164, 171, 134, 76],)"
      ]
     },
     "execution_count": 168,
     "metadata": {},
     "output_type": "execute_result"
    }
   ],
   "source": [
    "toolbox.mutate(ind)"
   ]
  },
  {
   "cell_type": "code",
   "execution_count": 296,
   "metadata": {},
   "outputs": [],
   "source": [
    "def evaluate_ind_with_pre(ind, pre):\n",
    "    x1 = [np.cos(ind[0]**2),\n",
    "         np.cos(ind[1]**0.2), \n",
    "         np.sin(ind[2]**0.5), \n",
    "         ind[3]**1.5 - np.floor(ind[3]**1.5), \n",
    "         np.cos(ind[4]**2),\n",
    "         np.sin(ind[5]**0.4), \n",
    "         np.sin(ind[6]**0.5), \n",
    "         ind[7]**1.2 - np.floor(ind[7]**1.2)] \n",
    "    x2 = [np.cos(pre[0]**2),\n",
    "         np.cos(pre[1]**0.2), \n",
    "         np.sin(pre[2]**0.5), \n",
    "         pre[3]**1.5 - np.floor(pre[3]**1.5), \n",
    "         np.cos(pre[4]**2),\n",
    "         np.sin(pre[5]**0.4), \n",
    "         np.sin(pre[6]**0.5), \n",
    "         pre[7]**1.2 - np.floor(pre[7]**1.2)] \n",
    "    temp1 = np.dot(x1, [-1, -2, 3, 5, 2, -7, 3, -1])\n",
    "    temp2 = np.dot(x2, [-1, -2, 3, 5, 2, -7, 3, -1])\n",
    "    return [temp1 - temp2]\n",
    "def evaluate_pops_with_pre(pops, pre):\n",
    "    fitnesses = [None for i in pops]\n",
    "    for i, ind in enumerate(pops):\n",
    "        fitnesses[i] = evaluate_ind_with_pre(ind, pre)\n",
    "    return fitnesses"
   ]
  },
  {
   "cell_type": "code",
   "execution_count": 306,
   "metadata": {},
   "outputs": [],
   "source": [
    "pop = toolbox.population(n=50)\n",
    "pre = pop[0]\n",
    "pre_fitness = 0\n",
    "toolbox.register(\"mate2\", tools.cxUniform, indpb=0.1)\n",
    "toolbox.register(\"mutate2\", tools.mutUniformInt, low=2, up=200, indpb=0.2)\n",
    "toolbox.register(\"select2\", tools.selTournament, tournsize=5)\n",
    "\n",
    "best_fitness_eachgen = []\n",
    "gen_total = 0"
   ]
  },
  {
   "cell_type": "code",
   "execution_count": 317,
   "metadata": {},
   "outputs": [],
   "source": [
    "# setting up probability to crossover and mutate\n",
    "CXPB = 0.5\n",
    "MUTPB = 0.5\n",
    "\n",
    "GEN = 500\n",
    "\n",
    "for g in range(GEN):\n",
    "    gen_total += 1\n",
    "    # Select the next generation individuals\n",
    "    offspring = toolbox.select2(pop, len(pop))\n",
    "    \n",
    "    # Clone the selected individuals\n",
    "    offspring = list(map(toolbox.clone, offspring))\n",
    "    \n",
    "    # Apply crossover on the offspring\n",
    "    for child1, child2 in zip(offspring[::2], offspring[1::2]):\n",
    "        if random.random() < CXPB:\n",
    "            toolbox.mate2(child1, child2)\n",
    "            del child1.fitness.values\n",
    "            del child2.fitness.values\n",
    "\n",
    "    # Apply mutation on the offspring\n",
    "    for mutant in offspring:\n",
    "        if random.random() < MUTPB:\n",
    "            toolbox.mutate2(mutant)\n",
    "            del mutant.fitness.values\n",
    "\n",
    "    # Evaluate the individuals with the previous best one\n",
    "    fitnesses = evaluate_pops_with_pre(offspring, pre)\n",
    "    #print(fitnesses)\n",
    "    for ind, fit in zip(offspring, fitnesses):\n",
    "        #print(fit)\n",
    "        ind.fitness.values = fit\n",
    "    \n",
    "    if max(np.ravel(fitnesses)) > 0:\n",
    "        # update new population\n",
    "        pop[:] = offspring\n",
    "\n",
    "        best_fit_ind = np.argmax(fitnesses)\n",
    "        pre = offspring[best_fit_ind]\n",
    "\n",
    "        best_fitness_eachgen.append(fitnesses[best_fit_ind][0] + pre_fitness)\n",
    "\n",
    "        pre_fitness = best_fitness_eachgen[-1]\n",
    "        print(pre_fitness)\n",
    "    else:\n",
    "        best_fitness_eachgen.append(best_fitness_eachgen[-1])"
   ]
  },
  {
   "cell_type": "code",
   "execution_count": 318,
   "metadata": {},
   "outputs": [
    {
     "name": "stdout",
     "output_type": "stream",
     "text": [
      "2500\n"
     ]
    }
   ],
   "source": [
    "print(gen_total)"
   ]
  },
  {
   "cell_type": "code",
   "execution_count": 319,
   "metadata": {},
   "outputs": [
    {
     "data": {
      "text/plain": [
       "[129, 200, 200, 109, 84, 48, 200, 155]"
      ]
     },
     "execution_count": 319,
     "metadata": {},
     "output_type": "execute_result"
    }
   ],
   "source": [
    "pre"
   ]
  },
  {
   "cell_type": "code",
   "execution_count": 320,
   "metadata": {},
   "outputs": [
    {
     "data": {
      "image/png": "[encoded data removed]",
      "text/plain": [
       "<Figure size 432x288 with 1 Axes>"
      ]
     },
     "metadata": {
      "needs_background": "light"
     },
     "output_type": "display_data"
    }
   ],
   "source": [
    "import matplotlib.pyplot as plt\n",
    "plt.plot(list(range(gen_total)), best_fitness_eachgen, label=\"best\")\n",
    "plt.xlabel(\"Generation\")\n",
    "plt.ylabel(\"Fitness\")\n",
    "plt.legend(loc=\"lower right\")\n",
    "plt.xscale('log')\n",
    "plt.show()"
   ]
  },
  {
   "cell_type": "code",
   "execution_count": 223,
   "metadata": {},
   "outputs": [],
   "source": [
    "def main():\n",
    "    \n",
    "    pop = toolbox.population(n=100)\n",
    "    hof = tools.HallOfFame(1)\n",
    "    stats = tools.Statistics(lambda ind: ind.fitness.values)\n",
    "    stats.register(\"avg\", np.mean)\n",
    "    stats.register(\"min\", np.min)\n",
    "    stats.register(\"max\", np.max)\n",
    "    \n",
    "    pop, logbook = algorithms.eaSimple(pop, toolbox, cxpb=0.5, mutpb=0.2, ngen=50, stats=stats, halloffame=hof, verbose=True)\n",
    "    \n",
    "    return pop, logbook, hof"
   ]
  },
  {
   "cell_type": "code",
   "execution_count": 224,
   "metadata": {},
   "outputs": [
    {
     "name": "stdout",
     "output_type": "stream",
     "text": [
      "gen\tnevals\tavg     \tmin     \tmax    \n",
      "0  \t100   \t-1.89107\t-14.9243\t12.1741\n",
      "1  \t61    \t2.68989 \t-9.3921 \t12.4922\n",
      "2  \t55    \t6.09728 \t-5.21448\t12.6238\n",
      "3  \t65    \t8.47634 \t-5.45638\t14.3566\n",
      "4  \t61    \t10.9535 \t-1.15883\t15.8038\n",
      "5  \t58    \t11.8994 \t2.60475 \t15.121 \n",
      "6  \t57    \t12.9809 \t-3.01465\t16.2961\n",
      "7  \t67    \t13.1255 \t-5.12672\t16.2961\n",
      "8  \t64    \t14.0915 \t-0.69709\t16.8649\n",
      "9  \t56    \t14.9265 \t-3.00766\t16.8747\n",
      "10 \t52    \t15.283  \t2.8824  \t17.1768\n",
      "11 \t61    \t15.9086 \t2.79875 \t17.3554\n",
      "12 \t59    \t16.401  \t6.77613 \t17.3554\n",
      "13 \t72    \t15.5951 \t-1.53608\t17.3554\n",
      "14 \t61    \t16.4387 \t-2.6256 \t17.4751\n",
      "15 \t58    \t16.6613 \t0.789776\t17.4751\n",
      "16 \t58    \t16.7352 \t-0.380495\t17.6228\n",
      "17 \t66    \t16.5892 \t0.192109 \t17.6228\n",
      "18 \t58    \t16.8878 \t2.66065  \t17.6228\n",
      "19 \t60    \t16.4485 \t-0.972215\t17.6228\n",
      "20 \t59    \t16.5541 \t2.92246  \t17.6501\n",
      "21 \t61    \t16.3762 \t0.725346 \t17.6549\n",
      "22 \t67    \t16.7    \t1.30225  \t17.6549\n",
      "23 \t48    \t17.0248 \t-0.338587\t17.6549\n",
      "24 \t62    \t16.7949 \t1.44699  \t17.7194\n",
      "25 \t52    \t16.6153 \t-0.544339\t17.7194\n",
      "26 \t60    \t16.7894 \t4.69185  \t17.7194\n",
      "27 \t53    \t17.2881 \t4.05623  \t17.7194\n",
      "28 \t53    \t17.0154 \t3.66364  \t17.7194\n",
      "29 \t60    \t16.8291 \t0.578332 \t17.7194\n",
      "30 \t62    \t16.5972 \t-1.57764 \t17.7194\n",
      "31 \t43    \t16.9061 \t-1.15335 \t17.7194\n",
      "32 \t45    \t16.583  \t-5.69265 \t17.7194\n",
      "33 \t57    \t16.9901 \t8.06865  \t17.7194\n",
      "34 \t71    \t16.5602 \t3.2173   \t17.7194\n",
      "35 \t58    \t16.7757 \t2.99363  \t17.7194\n",
      "36 \t60    \t16.9049 \t-4.56122 \t17.7194\n",
      "37 \t67    \t16.4215 \t-2.8993  \t17.7194\n",
      "38 \t55    \t16.874  \t3.86468  \t17.7194\n",
      "39 \t63    \t16.9435 \t1.60676  \t17.7194\n",
      "40 \t68    \t17.134  \t4.38852  \t17.7194\n",
      "41 \t64    \t17.0241 \t2.85304  \t17.7334\n",
      "42 \t69    \t17.3091 \t6.91266  \t17.7334\n",
      "43 \t62    \t16.6819 \t1.91409  \t17.7334\n",
      "44 \t66    \t17.0639 \t-3.8384  \t17.7334\n",
      "45 \t65    \t17.0973 \t1.3524   \t17.7334\n",
      "46 \t59    \t16.2481 \t1.02306  \t17.7538\n",
      "47 \t73    \t16.3741 \t-1.87569 \t17.7538\n",
      "48 \t67    \t16.8486 \t6.92432  \t17.7538\n",
      "49 \t66    \t16.2178 \t-1.00622 \t17.7538\n",
      "50 \t68    \t17.0601 \t2.0019   \t17.7538\n",
      "Best individual is: [88, 200, 199, 152, 127, 47, 200, 144]\n",
      "with fitness: (17.753844937480338,)\n"
     ]
    },
    {
     "data": {
      "image/png": "[encoded data removed]",
      "text/plain": [
       "<Figure size 432x288 with 1 Axes>"
      ]
     },
     "metadata": {
      "needs_background": "light"
     },
     "output_type": "display_data"
    }
   ],
   "source": [
    "if __name__ == \"__main__\":\n",
    "    pop, log, hof = main()\n",
    "    print(\"Best individual is: %s\\nwith fitness: %s\" % (hof[0], hof[0].fitness))\n",
    "    \n",
    "    import matplotlib.pyplot as plt\n",
    "    gen, avg, min_, max_ = log.select(\"gen\", \"avg\", \"min\", \"max\")\n",
    "    plt.plot(gen, avg, label=\"average\")\n",
    "    plt.plot(gen, min_, label=\"minimum\")\n",
    "    plt.plot(gen, max_, label=\"maximum\")\n",
    "    plt.xlabel(\"Generation\")\n",
    "    plt.ylabel(\"Fitness\")\n",
    "    plt.legend(loc=\"lower right\")\n",
    "    plt.show()"
   ]
  },
  {
   "cell_type": "code",
   "execution_count": null,
   "metadata": {},
   "outputs": [],
   "source": []
  }
 ],
 "metadata": {
  "kernelspec": {
   "display_name": "Python 3",
   "language": "python",
   "name": "python3"
  },
  "language_info": {
   "codemirror_mode": {
    "name": "ipython",
    "version": 3
   },
   "file_extension": ".py",
   "mimetype": "text/x-python",
   "name": "python",
   "nbconvert_exporter": "python",
   "pygments_lexer": "ipython3",
   "version": "3.7.3"
  }
 },
 "nbformat": 4,
 "nbformat_minor": 4
}
